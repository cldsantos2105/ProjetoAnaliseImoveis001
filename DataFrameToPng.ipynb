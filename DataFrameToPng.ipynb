{
 "cells": [
  {
   "cell_type": "code",
   "execution_count": 1,
   "id": "63c7c78d",
   "metadata": {},
   "outputs": [
    {
     "name": "stderr",
     "output_type": "stream",
     "text": [
      "[0916/201842.436225:INFO:headless_shell.cc(648)] Written to file /var/folders/ps/pdy93_ys0lg3k36bcpdfbp_00000gn/T/tmpinuq1s74/temp.png.\n"
     ]
    }
   ],
   "source": [
    "import pandas as pd\n",
    "import dataframe_image as dfi\n",
    " \n",
    "df = pd.DataFrame({'A': [1,2,3,4],\n",
    "                   'B':['A','B','C','D']})\n",
    " \n",
    "dfi.export(df, 'dataframe.png')\n"
   ]
  },
  {
   "cell_type": "code",
   "execution_count": null,
   "id": "a3ba4be9",
   "metadata": {},
   "outputs": [],
   "source": []
  }
 ],
 "metadata": {
  "kernelspec": {
   "display_name": "Python 3 (ipykernel)",
   "language": "python",
   "name": "python3"
  },
  "language_info": {
   "codemirror_mode": {
    "name": "ipython",
    "version": 3
   },
   "file_extension": ".py",
   "mimetype": "text/x-python",
   "name": "python",
   "nbconvert_exporter": "python",
   "pygments_lexer": "ipython3",
   "version": "3.9.1"
  }
 },
 "nbformat": 4,
 "nbformat_minor": 5
}
